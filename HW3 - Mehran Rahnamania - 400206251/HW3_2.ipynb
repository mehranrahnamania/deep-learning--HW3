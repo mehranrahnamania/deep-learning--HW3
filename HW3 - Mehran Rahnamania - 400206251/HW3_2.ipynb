{
  "nbformat": 4,
  "nbformat_minor": 0,
  "metadata": {
    "colab": {
      "provenance": []
    },
    "kernelspec": {
      "name": "python3",
      "display_name": "Python 3"
    },
    "language_info": {
      "name": "python"
    },
    "accelerator": "GPU",
    "gpuClass": "standard"
  },
  "cells": [
    {
      "cell_type": "code",
      "execution_count": null,
      "metadata": {
        "id": "ifjkjlf5m8Mh"
      },
      "outputs": [],
      "source": [
        "import torch\n",
        "import torchvision\n",
        "import pandas as pd\n",
        "import numpy as np\n",
        "import random\n",
        "import matplotlib.pyplot as plt\n",
        "from torchvision.transforms import transforms\n",
        "from sklearn.model_selection import train_test_split\n",
        "from torchvision.models import resnet50, ResNet50_Weights,resnet18, ResNet18_Weights\n",
        "import torch.nn as nn\n",
        "from torch.utils.data import Subset\n",
        "from torch.utils.data import DataLoader\n",
        "from prettytable import PrettyTable"
      ]
    },
    {
      "cell_type": "code",
      "source": [
        "from google.colab import drive\n",
        "drive.mount('/content/drive')"
      ],
      "metadata": {
        "colab": {
          "base_uri": "https://localhost:8080/"
        },
        "id": "J3jIxCpBJIvR",
        "outputId": "3a9de63f-fa02-4549-e72c-ad3a5416f2a3"
      },
      "execution_count": null,
      "outputs": [
        {
          "output_type": "stream",
          "name": "stdout",
          "text": [
            "Drive already mounted at /content/drive; to attempt to forcibly remount, call drive.mount(\"/content/drive\", force_remount=True).\n"
          ]
        }
      ]
    },
    {
      "cell_type": "code",
      "source": [
        "device = \"cuda\" if torch.cuda.is_available() else \"cpu\"\n",
        "print(f\"Using {device} device\")"
      ],
      "metadata": {
        "colab": {
          "base_uri": "https://localhost:8080/"
        },
        "id": "Frds_svB8RBC",
        "outputId": "9a6a421d-a2b6-47a7-d459-2d60d70c546c"
      },
      "execution_count": null,
      "outputs": [
        {
          "output_type": "stream",
          "name": "stdout",
          "text": [
            "Using cuda device\n"
          ]
        }
      ]
    },
    {
      "cell_type": "markdown",
      "source": [
        "Downlaod and show randomly data of each type"
      ],
      "metadata": {
        "id": "yWte53KiQCab"
      }
    },
    {
      "cell_type": "code",
      "source": [
        "transform = transforms.Compose([transforms.ToTensor(), transforms.Normalize((0.5, 0.5, 0.5), (0.5, 0.5, 0.5))])\n",
        "\n",
        "trainset = torchvision.datasets.CIFAR10(root='./data', train=True, download=True, transform=transform)\n",
        "testset = torchvision.datasets.CIFAR10(root='./data', train=False,  download=True, transform=transform)"
      ],
      "metadata": {
        "id": "NG6zu8JlnJ3o",
        "colab": {
          "base_uri": "https://localhost:8080/"
        },
        "outputId": "897ebec3-e145-42f1-8ebb-efcd56d4cdd8"
      },
      "execution_count": null,
      "outputs": [
        {
          "output_type": "stream",
          "name": "stdout",
          "text": [
            "Files already downloaded and verified\n",
            "Files already downloaded and verified\n"
          ]
        }
      ]
    },
    {
      "cell_type": "code",
      "source": [
        "batch_size = 64\n",
        "trainloader = DataLoader(trainset, batch_size=batch_size,  shuffle=True )\n",
        "testloader = DataLoader(testset, batch_size=batch_size, shuffle=False)"
      ],
      "metadata": {
        "id": "0rANtPq24q1i"
      },
      "execution_count": null,
      "outputs": []
    },
    {
      "cell_type": "code",
      "source": [
        "labels_map = {\n",
        "    0: 'plane',\n",
        "    1: 'car',\n",
        "    2: 'bird',\n",
        "    3: 'cat',\n",
        "    4: 'deer',\n",
        "    5: 'dog',\n",
        "    6: 'frog',\n",
        "    7: 'horse',\n",
        "    8: 'ship',\n",
        "    9: 'truck',\n",
        "}\n",
        "figure = plt.figure(figsize=(8, 8))\n",
        "cols, rows = 3, 3\n",
        "lab = set()\n",
        "while(len(lab) <= 8):\n",
        "  sample_idx = torch.randint(len(trainset), size=(1,)).item()\n",
        "  img, label = trainset[sample_idx]\n",
        "  if label not in lab:\n",
        "    lab.add(label)\n",
        "    figure.add_subplot(rows, cols, len(lab))\n",
        "    plt.title(labels_map[label])\n",
        "    plt.axis(\"off\")\n",
        "    img = img / 2 + 0.5\n",
        "    plt.imshow(np.transpose(img, (1, 2, 0)))\n",
        "plt.show()"
      ],
      "metadata": {
        "colab": {
          "base_uri": "https://localhost:8080/",
          "height": 482
        },
        "id": "MPnQVDkK5ja_",
        "outputId": "b647eeff-8659-41a3-dd51-e35ef22c0386"
      },
      "execution_count": null,
      "outputs": [
        {
          "output_type": "display_data",
          "data": {
            "text/plain": [
              "<Figure size 576x576 with 9 Axes>"
            ],
            "image/png": "[encoded data removed]"
          },
          "metadata": {
            "needs_background": "light"
          }
        }
      ]
    },
    {
      "cell_type": "markdown",
      "source": [
        "ResNet50 Parameters"
      ],
      "metadata": {
        "id": "AMLAwrpUM-LS"
      }
    },
    {
      "cell_type": "code",
      "source": [
        "weights = ResNet50_Weights.DEFAULT\n",
        "model = resnet50(weights=weights)\n",
        "model.to(device)\n",
        "\n",
        "def count_parameters(model):\n",
        "    table = PrettyTable([\"Modules\", \"Parameters\"])\n",
        "    total_params = 0\n",
        "    for name, parameter in model.named_parameters():\n",
        "        if not parameter.requires_grad: continue\n",
        "        params = parameter.numel()\n",
        "        table.add_row([name, params])\n",
        "        total_params+=params\n",
        "    print(table)\n",
        "    print(f\"Total Trainable Params: {total_params}\")\n",
        "    return total_params\n",
        "params = count_parameters(model)"
      ],
      "metadata": {
        "colab": {
          "base_uri": "https://localhost:8080/"
        },
        "id": "hvGBzs-66f3n",
        "outputId": "c59f2c62-3160-4ecd-a784-2a02606f21d0"
      },
      "execution_count": null,
      "outputs": [
        {
          "output_type": "stream",
          "name": "stdout",
          "text": [
            "+------------------------------+------------+\n",
            "|           Modules            | Parameters |\n",
            "+------------------------------+------------+\n",
            "|         conv1.weight         |    9408    |\n",
            "|          bn1.weight          |     64     |\n",
            "|           bn1.bias           |     64     |\n",
            "|    layer1.0.conv1.weight     |    4096    |\n",
            "|     layer1.0.bn1.weight      |     64     |\n",
            "|      layer1.0.bn1.bias       |     64     |\n",
            "|    layer1.0.conv2.weight     |   36864    |\n",
            "|     layer1.0.bn2.weight      |     64     |\n",
            "|      layer1.0.bn2.bias       |     64     |\n",
            "|    layer1.0.conv3.weight     |   16384    |\n",
            "|     layer1.0.bn3.weight      |    256     |\n",
            "|      layer1.0.bn3.bias       |    256     |\n",
            "| layer1.0.downsample.0.weight |   16384    |\n",
            "| layer1.0.downsample.1.weight |    256     |\n",
            "|  layer1.0.downsample.1.bias  |    256     |\n",
            "|    layer1.1.conv1.weight     |   16384    |\n",
            "|     layer1.1.bn1.weight      |     64     |\n",
            "|      layer1.1.bn1.bias       |     64     |\n",
            "|    layer1.1.conv2.weight     |   36864    |\n",
            "|     layer1.1.bn2.weight      |     64     |\n",
            "|      layer1.1.bn2.bias       |     64     |\n",
            "|    layer1.1.conv3.weight     |   16384    |\n",
            "|     layer1.1.bn3.weight      |    256     |\n",
            "|      layer1.1.bn3.bias       |    256     |\n",
            "|    layer1.2.conv1.weight     |   16384    |\n",
            "|     layer1.2.bn1.weight      |     64     |\n",
            "|      layer1.2.bn1.bias       |     64     |\n",
            "|    layer1.2.conv2.weight     |   36864    |\n",
            "|     layer1.2.bn2.weight      |     64     |\n",
            "|      layer1.2.bn2.bias       |     64     |\n",
            "|    layer1.2.conv3.weight     |   16384    |\n",
            "|     layer1.2.bn3.weight      |    256     |\n",
            "|      layer1.2.bn3.bias       |    256     |\n",
            "|    layer2.0.conv1.weight     |   32768    |\n",
            "|     layer2.0.bn1.weight      |    128     |\n",
            "|      layer2.0.bn1.bias       |    128     |\n",
            "|    layer2.0.conv2.weight     |   147456   |\n",
            "|     layer2.0.bn2.weight      |    128     |\n",
            "|      layer2.0.bn2.bias       |    128     |\n",
            "|    layer2.0.conv3.weight     |   65536    |\n",
            "|     layer2.0.bn3.weight      |    512     |\n",
            "|      layer2.0.bn3.bias       |    512     |\n",
            "| layer2.0.downsample.0.weight |   131072   |\n",
            "| layer2.0.downsample.1.weight |    512     |\n",
            "|  layer2.0.downsample.1.bias  |    512     |\n",
            "|    layer2.1.conv1.weight     |   65536    |\n",
            "|     layer2.1.bn1.weight      |    128     |\n",
            "|      layer2.1.bn1.bias       |    128     |\n",
            "|    layer2.1.conv2.weight     |   147456   |\n",
            "|     layer2.1.bn2.weight      |    128     |\n",
            "|      layer2.1.bn2.bias       |    128     |\n",
            "|    layer2.1.conv3.weight     |   65536    |\n",
            "|     layer2.1.bn3.weight      |    512     |\n",
            "|      layer2.1.bn3.bias       |    512     |\n",
            "|    layer2.2.conv1.weight     |   65536    |\n",
            "|     layer2.2.bn1.weight      |    128     |\n",
            "|      layer2.2.bn1.bias       |    128     |\n",
            "|    layer2.2.conv2.weight     |   147456   |\n",
            "|     layer2.2.bn2.weight      |    128     |\n",
            "|      layer2.2.bn2.bias       |    128     |\n",
            "|    layer2.2.conv3.weight     |   65536    |\n",
            "|     layer2.2.bn3.weight      |    512     |\n",
            "|      layer2.2.bn3.bias       |    512     |\n",
            "|    layer2.3.conv1.weight     |   65536    |\n",
            "|     layer2.3.bn1.weight      |    128     |\n",
            "|      layer2.3.bn1.bias       |    128     |\n",
            "|    layer2.3.conv2.weight     |   147456   |\n",
            "|     layer2.3.bn2.weight      |    128     |\n",
            "|      layer2.3.bn2.bias       |    128     |\n",
            "|    layer2.3.conv3.weight     |   65536    |\n",
            "|     layer2.3.bn3.weight      |    512     |\n",
            "|      layer2.3.bn3.bias       |    512     |\n",
            "|    layer3.0.conv1.weight     |   131072   |\n",
            "|     layer3.0.bn1.weight      |    256     |\n",
            "|      layer3.0.bn1.bias       |    256     |\n",
            "|    layer3.0.conv2.weight     |   589824   |\n",
            "|     layer3.0.bn2.weight      |    256     |\n",
            "|      layer3.0.bn2.bias       |    256     |\n",
            "|    layer3.0.conv3.weight     |   262144   |\n",
            "|     layer3.0.bn3.weight      |    1024    |\n",
            "|      layer3.0.bn3.bias       |    1024    |\n",
            "| layer3.0.downsample.0.weight |   524288   |\n",
            "| layer3.0.downsample.1.weight |    1024    |\n",
            "|  layer3.0.downsample.1.bias  |    1024    |\n",
            "|    layer3.1.conv1.weight     |   262144   |\n",
            "|     layer3.1.bn1.weight      |    256     |\n",
            "|      layer3.1.bn1.bias       |    256     |\n",
            "|    layer3.1.conv2.weight     |   589824   |\n",
            "|     layer3.1.bn2.weight      |    256     |\n",
            "|      layer3.1.bn2.bias       |    256     |\n",
            "|    layer3.1.conv3.weight     |   262144   |\n",
            "|     layer3.1.bn3.weight      |    1024    |\n",
            "|      layer3.1.bn3.bias       |    1024    |\n",
            "|    layer3.2.conv1.weight     |   262144   |\n",
            "|     layer3.2.bn1.weight      |    256     |\n",
            "|      layer3.2.bn1.bias       |    256     |\n",
            "|    layer3.2.conv2.weight     |   589824   |\n",
            "|     layer3.2.bn2.weight      |    256     |\n",
            "|      layer3.2.bn2.bias       |    256     |\n",
            "|    layer3.2.conv3.weight     |   262144   |\n",
            "|     layer3.2.bn3.weight      |    1024    |\n",
            "|      layer3.2.bn3.bias       |    1024    |\n",
            "|    layer3.3.conv1.weight     |   262144   |\n",
            "|     layer3.3.bn1.weight      |    256     |\n",
            "|      layer3.3.bn1.bias       |    256     |\n",
            "|    layer3.3.conv2.weight     |   589824   |\n",
            "|     layer3.3.bn2.weight      |    256     |\n",
            "|      layer3.3.bn2.bias       |    256     |\n",
            "|    layer3.3.conv3.weight     |   262144   |\n",
            "|     layer3.3.bn3.weight      |    1024    |\n",
            "|      layer3.3.bn3.bias       |    1024    |\n",
            "|    layer3.4.conv1.weight     |   262144   |\n",
            "|     layer3.4.bn1.weight      |    256     |\n",
            "|      layer3.4.bn1.bias       |    256     |\n",
            "|    layer3.4.conv2.weight     |   589824   |\n",
            "|     layer3.4.bn2.weight      |    256     |\n",
            "|      layer3.4.bn2.bias       |    256     |\n",
            "|    layer3.4.conv3.weight     |   262144   |\n",
            "|     layer3.4.bn3.weight      |    1024    |\n",
            "|      layer3.4.bn3.bias       |    1024    |\n",
            "|    layer3.5.conv1.weight     |   262144   |\n",
            "|     layer3.5.bn1.weight      |    256     |\n",
            "|      layer3.5.bn1.bias       |    256     |\n",
            "|    layer3.5.conv2.weight     |   589824   |\n",
            "|     layer3.5.bn2.weight      |    256     |\n",
            "|      layer3.5.bn2.bias       |    256     |\n",
            "|    layer3.5.conv3.weight     |   262144   |\n",
            "|     layer3.5.bn3.weight      |    1024    |\n",
            "|      layer3.5.bn3.bias       |    1024    |\n",
            "|    layer4.0.conv1.weight     |   524288   |\n",
            "|     layer4.0.bn1.weight      |    512     |\n",
            "|      layer4.0.bn1.bias       |    512     |\n",
            "|    layer4.0.conv2.weight     |  2359296   |\n",
            "|     layer4.0.bn2.weight      |    512     |\n",
            "|      layer4.0.bn2.bias       |    512     |\n",
            "|    layer4.0.conv3.weight     |  1048576   |\n",
            "|     layer4.0.bn3.weight      |    2048    |\n",
            "|      layer4.0.bn3.bias       |    2048    |\n",
            "| layer4.0.downsample.0.weight |  2097152   |\n",
            "| layer4.0.downsample.1.weight |    2048    |\n",
            "|  layer4.0.downsample.1.bias  |    2048    |\n",
            "|    layer4.1.conv1.weight     |  1048576   |\n",
            "|     layer4.1.bn1.weight      |    512     |\n",
            "|      layer4.1.bn1.bias       |    512     |\n",
            "|    layer4.1.conv2.weight     |  2359296   |\n",
            "|     layer4.1.bn2.weight      |    512     |\n",
            "|      layer4.1.bn2.bias       |    512     |\n",
            "|    layer4.1.conv3.weight     |  1048576   |\n",
            "|     layer4.1.bn3.weight      |    2048    |\n",
            "|      layer4.1.bn3.bias       |    2048    |\n",
            "|    layer4.2.conv1.weight     |  1048576   |\n",
            "|     layer4.2.bn1.weight      |    512     |\n",
            "|      layer4.2.bn1.bias       |    512     |\n",
            "|    layer4.2.conv2.weight     |  2359296   |\n",
            "|     layer4.2.bn2.weight      |    512     |\n",
            "|      layer4.2.bn2.bias       |    512     |\n",
            "|    layer4.2.conv3.weight     |  1048576   |\n",
            "|     layer4.2.bn3.weight      |    2048    |\n",
            "|      layer4.2.bn3.bias       |    2048    |\n",
            "|          fc.weight           |  2048000   |\n",
            "|           fc.bias            |    1000    |\n",
            "+------------------------------+------------+\n",
            "Total Trainable Params: 25557032\n"
          ]
        }
      ]
    },
    {
      "cell_type": "markdown",
      "source": [
        "Freeze ResNet50 Parameters Except Last Layer"
      ],
      "metadata": {
        "id": "D-rHXqm-M5_D"
      }
    },
    {
      "cell_type": "code",
      "source": [
        "for name, parameter in model.named_parameters():\n",
        "  if name =='fc.weight' or name =='fc.bias':\n",
        "    continue\n",
        "  parameter.requires_grad = False\n",
        "for name, layer in model.named_modules():\n",
        "    if name =='fc':\n",
        "        model._modules[name] = torch.nn.Linear(2048, 10)"
      ],
      "metadata": {
        "id": "ztFhktu09ANN"
      },
      "execution_count": null,
      "outputs": []
    },
    {
      "cell_type": "code",
      "source": [
        "count_parameters(model)"
      ],
      "metadata": {
        "colab": {
          "base_uri": "https://localhost:8080/"
        },
        "id": "V94MWKaK-Z3l",
        "outputId": "da9eb688-9998-4db5-d329-f85ce0c5c68a"
      },
      "execution_count": null,
      "outputs": [
        {
          "output_type": "stream",
          "name": "stdout",
          "text": [
            "+-----------+------------+\n",
            "|  Modules  | Parameters |\n",
            "+-----------+------------+\n",
            "| fc.weight |   20480    |\n",
            "|  fc.bias  |     10     |\n",
            "+-----------+------------+\n",
            "Total Trainable Params: 20490\n"
          ]
        },
        {
          "output_type": "execute_result",
          "data": {
            "text/plain": [
              "20490"
            ]
          },
          "metadata": {},
          "execution_count": 99
        }
      ]
    },
    {
      "cell_type": "markdown",
      "source": [
        "Train and test and distillation_train fuctioin"
      ],
      "metadata": {
        "id": "gJKmwPTFNDFd"
      }
    },
    {
      "cell_type": "code",
      "source": [
        "def train(dataloader, model, loss_fn, optimizer):\n",
        "    size = len(dataloader.dataset)\n",
        "    for batch, (X, y) in enumerate(dataloader):\n",
        "        X, y = X.to(device), y.to(device)\n",
        "\n",
        "        model.train()\n",
        "        pred = model(X)\n",
        "        loss = loss_fn(pred, y)\n",
        "\n",
        "        optimizer.zero_grad()\n",
        "        loss.backward()\n",
        "        optimizer.step()\n",
        "\n",
        "\n",
        "def test(dataloader, model, loss_fn):\n",
        "    size = len(dataloader.dataset)\n",
        "    num_batches = len(dataloader)\n",
        "    test_loss, correct = 0, 0\n",
        "    \n",
        "    with torch.no_grad():\n",
        "        for X, y in dataloader:\n",
        "            X, y = X.to(device), y.to(device)\n",
        "            model.eval()\n",
        "            pred = model(X)\n",
        "            test_loss += loss_fn(pred, y).item()\n",
        "            correct += (pred.argmax(1) == y).type(torch.float).sum().item()\n",
        "\n",
        "    test_loss /= num_batches\n",
        "    correct /= size\n",
        "    print(f\"Test Error: \\n Accuracy: {(100*correct):>0.1f}%, Avg loss: {test_loss:>8f} \\n\")\n",
        "    return correct\n",
        "\n",
        "def distillation_train(dataloader, model1, model, alpha, temp, loss_fn, optimizer):\n",
        "    size = len(dataloader.dataset)\n",
        "    for batch, (X, y) in enumerate(dataloader):\n",
        "        X, y = X.to(device), y.to(device)\n",
        "        with torch.no_grad():\n",
        "            model.eval()\n",
        "            pred = model(X)\n",
        "        model1.train()\n",
        "        pred1 = model1(X)\n",
        "        loss = (1-alpha)*loss_fn(pred, y) + (alpha)*loss_fn(pred1/temp,torch.exp(nn.functional.log_softmax(pred/temp,dim=1)))\n",
        "\n",
        "        optimizer.zero_grad()\n",
        "        loss.backward()\n",
        "        optimizer.step()"
      ],
      "metadata": {
        "id": "OHw_WfloAJIW"
      },
      "execution_count": null,
      "outputs": []
    },
    {
      "cell_type": "code",
      "source": [
        "epochs = 5\n",
        "model.to(device)\n",
        "\n",
        "loss_fn = nn.CrossEntropyLoss()\n",
        "optimizer = torch.optim.Adam(model.parameters(), lr=1e-3)\n",
        "\n",
        "test_accuracy = []\n",
        "for t in range(epochs):\n",
        "    print(f\"Epoch {t+1}\\n-------------------------------\")\n",
        "    train(trainloader, model, loss_fn, optimizer)\n",
        "    test_accuracy.append(test(testloader, model, loss_fn))\n",
        "\n",
        "    if t>0:\n",
        "       if test_accuracy[t-1]<=test_accuracy[t]:\n",
        "         torch.save(model, '/content/drive/MyDrive/HW3/ResNet50_Model_CIFAR10_Dataset.pth')\n",
        "      \n",
        "print(\"Done!\")"
      ],
      "metadata": {
        "colab": {
          "base_uri": "https://localhost:8080/"
        },
        "id": "TKADrzddAiDK",
        "outputId": "2c1c10db-af26-4fc3-86f6-1a454c4636e7"
      },
      "execution_count": null,
      "outputs": [
        {
          "output_type": "stream",
          "name": "stdout",
          "text": [
            "Epoch 1\n",
            "-------------------------------\n",
            "Test Error: \n",
            " Accuracy: 46.6%, Avg loss: 1.689136 \n",
            "\n",
            "Epoch 2\n",
            "-------------------------------\n",
            "Test Error: \n",
            " Accuracy: 47.4%, Avg loss: 1.905352 \n",
            "\n",
            "Epoch 3\n",
            "-------------------------------\n",
            "Test Error: \n",
            " Accuracy: 47.7%, Avg loss: 1.647621 \n",
            "\n",
            "Epoch 4\n",
            "-------------------------------\n",
            "Test Error: \n",
            " Accuracy: 47.6%, Avg loss: 1.823031 \n",
            "\n",
            "Epoch 5\n",
            "-------------------------------\n",
            "Test Error: \n",
            " Accuracy: 46.4%, Avg loss: 1.828684 \n",
            "\n",
            "Done!\n"
          ]
        }
      ]
    },
    {
      "cell_type": "markdown",
      "source": [
        "Training ResNet18 with ResNet50"
      ],
      "metadata": {
        "id": "K-9hhneyOSlb"
      }
    },
    {
      "cell_type": "code",
      "source": [
        "weights1 = ResNet18_Weights.DEFAULT\n",
        "model1 = resnet18(weights=weights1)\n",
        "\n",
        "count_parameters(model1)"
      ],
      "metadata": {
        "colab": {
          "base_uri": "https://localhost:8080/"
        },
        "id": "pjhb1JKIEp_B",
        "outputId": "b215b2d2-be98-4975-b254-97d17dcc2251"
      },
      "execution_count": null,
      "outputs": [
        {
          "output_type": "stream",
          "name": "stdout",
          "text": [
            "+------------------------------+------------+\n",
            "|           Modules            | Parameters |\n",
            "+------------------------------+------------+\n",
            "|         conv1.weight         |    9408    |\n",
            "|          bn1.weight          |     64     |\n",
            "|           bn1.bias           |     64     |\n",
            "|    layer1.0.conv1.weight     |   36864    |\n",
            "|     layer1.0.bn1.weight      |     64     |\n",
            "|      layer1.0.bn1.bias       |     64     |\n",
            "|    layer1.0.conv2.weight     |   36864    |\n",
            "|     layer1.0.bn2.weight      |     64     |\n",
            "|      layer1.0.bn2.bias       |     64     |\n",
            "|    layer1.1.conv1.weight     |   36864    |\n",
            "|     layer1.1.bn1.weight      |     64     |\n",
            "|      layer1.1.bn1.bias       |     64     |\n",
            "|    layer1.1.conv2.weight     |   36864    |\n",
            "|     layer1.1.bn2.weight      |     64     |\n",
            "|      layer1.1.bn2.bias       |     64     |\n",
            "|    layer2.0.conv1.weight     |   73728    |\n",
            "|     layer2.0.bn1.weight      |    128     |\n",
            "|      layer2.0.bn1.bias       |    128     |\n",
            "|    layer2.0.conv2.weight     |   147456   |\n",
            "|     layer2.0.bn2.weight      |    128     |\n",
            "|      layer2.0.bn2.bias       |    128     |\n",
            "| layer2.0.downsample.0.weight |    8192    |\n",
            "| layer2.0.downsample.1.weight |    128     |\n",
            "|  layer2.0.downsample.1.bias  |    128     |\n",
            "|    layer2.1.conv1.weight     |   147456   |\n",
            "|     layer2.1.bn1.weight      |    128     |\n",
            "|      layer2.1.bn1.bias       |    128     |\n",
            "|    layer2.1.conv2.weight     |   147456   |\n",
            "|     layer2.1.bn2.weight      |    128     |\n",
            "|      layer2.1.bn2.bias       |    128     |\n",
            "|    layer3.0.conv1.weight     |   294912   |\n",
            "|     layer3.0.bn1.weight      |    256     |\n",
            "|      layer3.0.bn1.bias       |    256     |\n",
            "|    layer3.0.conv2.weight     |   589824   |\n",
            "|     layer3.0.bn2.weight      |    256     |\n",
            "|      layer3.0.bn2.bias       |    256     |\n",
            "| layer3.0.downsample.0.weight |   32768    |\n",
            "| layer3.0.downsample.1.weight |    256     |\n",
            "|  layer3.0.downsample.1.bias  |    256     |\n",
            "|    layer3.1.conv1.weight     |   589824   |\n",
            "|     layer3.1.bn1.weight      |    256     |\n",
            "|      layer3.1.bn1.bias       |    256     |\n",
            "|    layer3.1.conv2.weight     |   589824   |\n",
            "|     layer3.1.bn2.weight      |    256     |\n",
            "|      layer3.1.bn2.bias       |    256     |\n",
            "|    layer4.0.conv1.weight     |  1179648   |\n",
            "|     layer4.0.bn1.weight      |    512     |\n",
            "|      layer4.0.bn1.bias       |    512     |\n",
            "|    layer4.0.conv2.weight     |  2359296   |\n",
            "|     layer4.0.bn2.weight      |    512     |\n",
            "|      layer4.0.bn2.bias       |    512     |\n",
            "| layer4.0.downsample.0.weight |   131072   |\n",
            "| layer4.0.downsample.1.weight |    512     |\n",
            "|  layer4.0.downsample.1.bias  |    512     |\n",
            "|    layer4.1.conv1.weight     |  2359296   |\n",
            "|     layer4.1.bn1.weight      |    512     |\n",
            "|      layer4.1.bn1.bias       |    512     |\n",
            "|    layer4.1.conv2.weight     |  2359296   |\n",
            "|     layer4.1.bn2.weight      |    512     |\n",
            "|      layer4.1.bn2.bias       |    512     |\n",
            "|          fc.weight           |   512000   |\n",
            "|           fc.bias            |    1000    |\n",
            "+------------------------------+------------+\n",
            "Total Trainable Params: 11689512\n"
          ]
        },
        {
          "output_type": "execute_result",
          "data": {
            "text/plain": [
              "11689512"
            ]
          },
          "metadata": {},
          "execution_count": 102
        }
      ]
    },
    {
      "cell_type": "code",
      "source": [
        "for name, layer in model1.named_modules():\n",
        "    if name =='fc':\n",
        "        model1._modules[name] = torch.nn.Linear(512, 10)"
      ],
      "metadata": {
        "id": "SF7SgrrlE_GG"
      },
      "execution_count": null,
      "outputs": []
    },
    {
      "cell_type": "markdown",
      "source": [
        "Finding The Best Distillation Hyperparameters in 2 epochs"
      ],
      "metadata": {
        "id": "GPGSfYf-Nsvu"
      }
    },
    {
      "cell_type": "code",
      "source": [
        "loss_fn = nn.CrossEntropyLoss()\n",
        "epochs = 2\n",
        "\n",
        "model1.to(device)\n",
        "\n",
        "teacher_model = torch.load('/content/drive/MyDrive/HW3/ResNet50_Model_CIFAR10_Dataset.pth')\n",
        "teacher_model.to(device)\n",
        "\n",
        "test_accuracy1 = []\n",
        "alphas =[0.5, 0.8, 1]\n",
        "temps =[1, 10, 20]\n",
        "\n",
        "for alpha in alphas:\n",
        "  for temp in temps:\n",
        "      student_model = model1\n",
        "      optimizer = torch.optim.Adam(student_model.parameters(), lr = 1e-3)\n",
        "      \n",
        "      for t in range(epochs):\n",
        "          print(f\"Epoch {t+1}\\n-------------------------------\")\n",
        "          distillation_train(trainloader,student_model,teacher_model,alpha,temp,loss_fn, optimizer)\n",
        "          test_accuracy1.append(test(testloader,student_model, loss_fn))\n",
        "\n",
        "          if np.argmax(test_accuracy1) == len(test_accuracy1)-1:\n",
        "              main_alpha = alpha\n",
        "              main_temp = temp\n",
        "              torch.save(student_model,'/content/drive/MyDrive/HW3/ResNet18_Distillation_Model_CIFAR10_Dataset.pth')\n",
        "            \n",
        "      print(\"Done!\")\n",
        "\n",
        "print(f'The best alpha is:{main_alpha}')\n",
        "print(f'The best temperture is:{main_temp}')"
      ],
      "metadata": {
        "colab": {
          "base_uri": "https://localhost:8080/"
        },
        "id": "kdKepraIIjVW",
        "outputId": "9aec0e2f-c867-4b88-f18a-345c6815ba16"
      },
      "execution_count": null,
      "outputs": [
        {
          "output_type": "stream",
          "name": "stdout",
          "text": [
            "Epoch 1\n",
            "-------------------------------\n",
            "Test Error: \n",
            " Accuracy: 58.7%, Avg loss: 1.422011 \n",
            "\n",
            "Epoch 2\n",
            "-------------------------------\n",
            "Test Error: \n",
            " Accuracy: 56.4%, Avg loss: 1.470450 \n",
            "\n",
            "Done!\n",
            "Epoch 1\n",
            "-------------------------------\n",
            "Test Error: \n",
            " Accuracy: 56.6%, Avg loss: 1.325578 \n",
            "\n",
            "Epoch 2\n",
            "-------------------------------\n",
            "Test Error: \n",
            " Accuracy: 60.2%, Avg loss: 1.387073 \n",
            "\n",
            "Done!\n",
            "Epoch 1\n",
            "-------------------------------\n",
            "Test Error: \n",
            " Accuracy: 61.7%, Avg loss: 1.230205 \n",
            "\n",
            "Epoch 2\n",
            "-------------------------------\n",
            "Test Error: \n",
            " Accuracy: 61.7%, Avg loss: 1.345466 \n",
            "\n",
            "Done!\n",
            "Epoch 1\n",
            "-------------------------------\n",
            "Test Error: \n",
            " Accuracy: 62.9%, Avg loss: 1.479615 \n",
            "\n",
            "Epoch 2\n",
            "-------------------------------\n",
            "Test Error: \n",
            " Accuracy: 63.0%, Avg loss: 1.355564 \n",
            "\n",
            "Done!\n",
            "Epoch 1\n",
            "-------------------------------\n",
            "Test Error: \n",
            " Accuracy: 63.2%, Avg loss: 1.231613 \n",
            "\n",
            "Epoch 2\n",
            "-------------------------------\n",
            "Test Error: \n",
            " Accuracy: 61.6%, Avg loss: 1.371505 \n",
            "\n",
            "Done!\n",
            "Epoch 1\n",
            "-------------------------------\n",
            "Test Error: \n",
            " Accuracy: 61.5%, Avg loss: 1.449729 \n",
            "\n",
            "Epoch 2\n",
            "-------------------------------\n",
            "Test Error: \n",
            " Accuracy: 61.5%, Avg loss: 1.284548 \n",
            "\n",
            "Done!\n",
            "Epoch 1\n",
            "-------------------------------\n",
            "Test Error: \n",
            " Accuracy: 60.3%, Avg loss: 1.472334 \n",
            "\n",
            "Epoch 2\n",
            "-------------------------------\n",
            "Test Error: \n",
            " Accuracy: 62.2%, Avg loss: 1.333257 \n",
            "\n",
            "Done!\n",
            "Epoch 1\n",
            "-------------------------------\n",
            "Test Error: \n",
            " Accuracy: 60.9%, Avg loss: 1.328774 \n",
            "\n",
            "Epoch 2\n",
            "-------------------------------\n",
            "Test Error: \n",
            " Accuracy: 59.8%, Avg loss: 1.309379 \n",
            "\n",
            "Done!\n",
            "Epoch 1\n",
            "-------------------------------\n",
            "Test Error: \n",
            " Accuracy: 59.4%, Avg loss: 1.343087 \n",
            "\n",
            "Epoch 2\n",
            "-------------------------------\n",
            "Test Error: \n",
            " Accuracy: 59.8%, Avg loss: 1.340557 \n",
            "\n",
            "Done!\n",
            "The best alpha is:0.8\n",
            "The best temperture is:10\n"
          ]
        }
      ]
    },
    {
      "cell_type": "markdown",
      "source": [
        "Training Student Model With Best Hyperparameters in 5 Epochs"
      ],
      "metadata": {
        "id": "SrO7iNw7PGai"
      }
    },
    {
      "cell_type": "code",
      "source": [
        "loss_fn = nn.CrossEntropyLoss()\n",
        "epochs = 5 \n",
        "\n",
        "teacher_model = torch.load('/content/drive/MyDrive/HW3/ResNet50_Model_CIFAR10_Dataset.pth')\n",
        "teacher_model.to(device)\n",
        "\n",
        "test_accuracy1 = [np.max(test_accuracy1)]\n",
        "\n",
        "student_model = torch.load('/content/drive/MyDrive/HW3/ResNet18_Distillation_Model_CIFAR10_Dataset.pth')\n",
        "student_model.to(device)\n",
        "\n",
        "for t in range(epochs):\n",
        "          print(f\"Epoch {t+3}\\n-------------------------------\")\n",
        "          distillation_train(trainloader, student_model, teacher_model, main_alpha , main_temp, loss_fn, optimizer)\n",
        "          test_accuracy1.append(test(testloader,student_model, loss_fn))\n",
        "          if np.argmax(test_accuracy1)==len(test_accuracy1)-1:\n",
        "              torch.save(student_model,'/content/drive/MyDrive/HW3/ResNet18_Distillation_Model_CIFAR10_Dataset.pth')   \n",
        "print(\"Done!\")"
      ],
      "metadata": {
        "colab": {
          "base_uri": "https://localhost:8080/"
        },
        "id": "G3JDobHhLy18",
        "outputId": "8ef6da1b-802f-49c4-cbcc-cb6ff85f9329"
      },
      "execution_count": null,
      "outputs": [
        {
          "output_type": "stream",
          "name": "stdout",
          "text": [
            "Epoch 3\n",
            "-------------------------------\n",
            "Test Error: \n",
            " Accuracy: 63.2%, Avg loss: 1.228356 \n",
            "\n",
            "Epoch 4\n",
            "-------------------------------\n",
            "Test Error: \n",
            " Accuracy: 62.9%, Avg loss: 1.255212 \n",
            "\n",
            "Epoch 5\n",
            "-------------------------------\n",
            "Test Error: \n",
            " Accuracy: 62.7%, Avg loss: 1.264652 \n",
            "\n",
            "Epoch 6\n",
            "-------------------------------\n",
            "Test Error: \n",
            " Accuracy: 62.8%, Avg loss: 1.294492 \n",
            "\n",
            "Epoch 7\n",
            "-------------------------------\n",
            "Test Error: \n",
            " Accuracy: 63.3%, Avg loss: 1.242582 \n",
            "\n",
            "Done!\n"
          ]
        }
      ]
    },
    {
      "cell_type": "markdown",
      "source": [
        "\n",
        "Training ResNet18 On CIFAR10 Without Teacher"
      ],
      "metadata": {
        "id": "_IbZ5aKlN7Qj"
      }
    },
    {
      "cell_type": "code",
      "source": [
        "epochs = 5\n",
        "model1.to(device)\n",
        "optimizer = torch.optim.Adam(model1.parameters(), lr=1e-3)\n",
        "test_accuracy2 = []\n",
        "for t in range(epochs):\n",
        "    print(f\"Epoch {t+1}\\n-------------------------------\")\n",
        "    train(trainloader, model1, loss_fn, optimizer)\n",
        "    test_accuracy2.append(test(testloader, model1, loss_fn))\n",
        "    if t>0:\n",
        "       if test_accuracy2[t-1]<=test_accuracy2[t]:\n",
        "         torch.save(model1, '/content/drive/MyDrive/HW3/ResNet18_Model_CIFAR10_Dataset.pth')\n",
        "      \n",
        "print(\"Done!\")"
      ],
      "metadata": {
        "colab": {
          "base_uri": "https://localhost:8080/"
        },
        "id": "E2LS4UhUMPLW",
        "outputId": "0ec699c0-d4cd-4b11-a8bd-02f174574ef9"
      },
      "execution_count": null,
      "outputs": [
        {
          "output_type": "stream",
          "name": "stdout",
          "text": [
            "Epoch 1\n",
            "-------------------------------\n",
            "Test Error: \n",
            " Accuracy: 72.3%, Avg loss: 0.879512 \n",
            "\n",
            "Epoch 2\n",
            "-------------------------------\n",
            "Test Error: \n",
            " Accuracy: 77.8%, Avg loss: 0.692169 \n",
            "\n",
            "Epoch 3\n",
            "-------------------------------\n",
            "Test Error: \n",
            " Accuracy: 77.7%, Avg loss: 0.710438 \n",
            "\n",
            "Epoch 4\n",
            "-------------------------------\n",
            "Test Error: \n",
            " Accuracy: 78.8%, Avg loss: 0.767361 \n",
            "\n",
            "Epoch 5\n",
            "-------------------------------\n",
            "Test Error: \n",
            " Accuracy: 77.5%, Avg loss: 0.919326 \n",
            "\n",
            "Done!\n"
          ]
        }
      ]
    },
    {
      "cell_type": "markdown",
      "source": [
        "Fine Tunning of ResNet50"
      ],
      "metadata": {
        "id": "4Bi1NNs-PkSs"
      }
    },
    {
      "cell_type": "code",
      "source": [
        "weights2 = ResNet50_Weights.DEFAULT\n",
        "model2 = resnet50(weights=weights2)\n",
        "count_parameters(model2)"
      ],
      "metadata": {
        "colab": {
          "base_uri": "https://localhost:8080/"
        },
        "id": "BcDLgrTwPpDn",
        "outputId": "e2d152a0-2bea-4d98-a832-c9d6bbe192c0"
      },
      "execution_count": null,
      "outputs": [
        {
          "output_type": "stream",
          "name": "stdout",
          "text": [
            "+------------------------------+------------+\n",
            "|           Modules            | Parameters |\n",
            "+------------------------------+------------+\n",
            "|         conv1.weight         |    9408    |\n",
            "|          bn1.weight          |     64     |\n",
            "|           bn1.bias           |     64     |\n",
            "|    layer1.0.conv1.weight     |    4096    |\n",
            "|     layer1.0.bn1.weight      |     64     |\n",
            "|      layer1.0.bn1.bias       |     64     |\n",
            "|    layer1.0.conv2.weight     |   36864    |\n",
            "|     layer1.0.bn2.weight      |     64     |\n",
            "|      layer1.0.bn2.bias       |     64     |\n",
            "|    layer1.0.conv3.weight     |   16384    |\n",
            "|     layer1.0.bn3.weight      |    256     |\n",
            "|      layer1.0.bn3.bias       |    256     |\n",
            "| layer1.0.downsample.0.weight |   16384    |\n",
            "| layer1.0.downsample.1.weight |    256     |\n",
            "|  layer1.0.downsample.1.bias  |    256     |\n",
            "|    layer1.1.conv1.weight     |   16384    |\n",
            "|     layer1.1.bn1.weight      |     64     |\n",
            "|      layer1.1.bn1.bias       |     64     |\n",
            "|    layer1.1.conv2.weight     |   36864    |\n",
            "|     layer1.1.bn2.weight      |     64     |\n",
            "|      layer1.1.bn2.bias       |     64     |\n",
            "|    layer1.1.conv3.weight     |   16384    |\n",
            "|     layer1.1.bn3.weight      |    256     |\n",
            "|      layer1.1.bn3.bias       |    256     |\n",
            "|    layer1.2.conv1.weight     |   16384    |\n",
            "|     layer1.2.bn1.weight      |     64     |\n",
            "|      layer1.2.bn1.bias       |     64     |\n",
            "|    layer1.2.conv2.weight     |   36864    |\n",
            "|     layer1.2.bn2.weight      |     64     |\n",
            "|      layer1.2.bn2.bias       |     64     |\n",
            "|    layer1.2.conv3.weight     |   16384    |\n",
            "|     layer1.2.bn3.weight      |    256     |\n",
            "|      layer1.2.bn3.bias       |    256     |\n",
            "|    layer2.0.conv1.weight     |   32768    |\n",
            "|     layer2.0.bn1.weight      |    128     |\n",
            "|      layer2.0.bn1.bias       |    128     |\n",
            "|    layer2.0.conv2.weight     |   147456   |\n",
            "|     layer2.0.bn2.weight      |    128     |\n",
            "|      layer2.0.bn2.bias       |    128     |\n",
            "|    layer2.0.conv3.weight     |   65536    |\n",
            "|     layer2.0.bn3.weight      |    512     |\n",
            "|      layer2.0.bn3.bias       |    512     |\n",
            "| layer2.0.downsample.0.weight |   131072   |\n",
            "| layer2.0.downsample.1.weight |    512     |\n",
            "|  layer2.0.downsample.1.bias  |    512     |\n",
            "|    layer2.1.conv1.weight     |   65536    |\n",
            "|     layer2.1.bn1.weight      |    128     |\n",
            "|      layer2.1.bn1.bias       |    128     |\n",
            "|    layer2.1.conv2.weight     |   147456   |\n",
            "|     layer2.1.bn2.weight      |    128     |\n",
            "|      layer2.1.bn2.bias       |    128     |\n",
            "|    layer2.1.conv3.weight     |   65536    |\n",
            "|     layer2.1.bn3.weight      |    512     |\n",
            "|      layer2.1.bn3.bias       |    512     |\n",
            "|    layer2.2.conv1.weight     |   65536    |\n",
            "|     layer2.2.bn1.weight      |    128     |\n",
            "|      layer2.2.bn1.bias       |    128     |\n",
            "|    layer2.2.conv2.weight     |   147456   |\n",
            "|     layer2.2.bn2.weight      |    128     |\n",
            "|      layer2.2.bn2.bias       |    128     |\n",
            "|    layer2.2.conv3.weight     |   65536    |\n",
            "|     layer2.2.bn3.weight      |    512     |\n",
            "|      layer2.2.bn3.bias       |    512     |\n",
            "|    layer2.3.conv1.weight     |   65536    |\n",
            "|     layer2.3.bn1.weight      |    128     |\n",
            "|      layer2.3.bn1.bias       |    128     |\n",
            "|    layer2.3.conv2.weight     |   147456   |\n",
            "|     layer2.3.bn2.weight      |    128     |\n",
            "|      layer2.3.bn2.bias       |    128     |\n",
            "|    layer2.3.conv3.weight     |   65536    |\n",
            "|     layer2.3.bn3.weight      |    512     |\n",
            "|      layer2.3.bn3.bias       |    512     |\n",
            "|    layer3.0.conv1.weight     |   131072   |\n",
            "|     layer3.0.bn1.weight      |    256     |\n",
            "|      layer3.0.bn1.bias       |    256     |\n",
            "|    layer3.0.conv2.weight     |   589824   |\n",
            "|     layer3.0.bn2.weight      |    256     |\n",
            "|      layer3.0.bn2.bias       |    256     |\n",
            "|    layer3.0.conv3.weight     |   262144   |\n",
            "|     layer3.0.bn3.weight      |    1024    |\n",
            "|      layer3.0.bn3.bias       |    1024    |\n",
            "| layer3.0.downsample.0.weight |   524288   |\n",
            "| layer3.0.downsample.1.weight |    1024    |\n",
            "|  layer3.0.downsample.1.bias  |    1024    |\n",
            "|    layer3.1.conv1.weight     |   262144   |\n",
            "|     layer3.1.bn1.weight      |    256     |\n",
            "|      layer3.1.bn1.bias       |    256     |\n",
            "|    layer3.1.conv2.weight     |   589824   |\n",
            "|     layer3.1.bn2.weight      |    256     |\n",
            "|      layer3.1.bn2.bias       |    256     |\n",
            "|    layer3.1.conv3.weight     |   262144   |\n",
            "|     layer3.1.bn3.weight      |    1024    |\n",
            "|      layer3.1.bn3.bias       |    1024    |\n",
            "|    layer3.2.conv1.weight     |   262144   |\n",
            "|     layer3.2.bn1.weight      |    256     |\n",
            "|      layer3.2.bn1.bias       |    256     |\n",
            "|    layer3.2.conv2.weight     |   589824   |\n",
            "|     layer3.2.bn2.weight      |    256     |\n",
            "|      layer3.2.bn2.bias       |    256     |\n",
            "|    layer3.2.conv3.weight     |   262144   |\n",
            "|     layer3.2.bn3.weight      |    1024    |\n",
            "|      layer3.2.bn3.bias       |    1024    |\n",
            "|    layer3.3.conv1.weight     |   262144   |\n",
            "|     layer3.3.bn1.weight      |    256     |\n",
            "|      layer3.3.bn1.bias       |    256     |\n",
            "|    layer3.3.conv2.weight     |   589824   |\n",
            "|     layer3.3.bn2.weight      |    256     |\n",
            "|      layer3.3.bn2.bias       |    256     |\n",
            "|    layer3.3.conv3.weight     |   262144   |\n",
            "|     layer3.3.bn3.weight      |    1024    |\n",
            "|      layer3.3.bn3.bias       |    1024    |\n",
            "|    layer3.4.conv1.weight     |   262144   |\n",
            "|     layer3.4.bn1.weight      |    256     |\n",
            "|      layer3.4.bn1.bias       |    256     |\n",
            "|    layer3.4.conv2.weight     |   589824   |\n",
            "|     layer3.4.bn2.weight      |    256     |\n",
            "|      layer3.4.bn2.bias       |    256     |\n",
            "|    layer3.4.conv3.weight     |   262144   |\n",
            "|     layer3.4.bn3.weight      |    1024    |\n",
            "|      layer3.4.bn3.bias       |    1024    |\n",
            "|    layer3.5.conv1.weight     |   262144   |\n",
            "|     layer3.5.bn1.weight      |    256     |\n",
            "|      layer3.5.bn1.bias       |    256     |\n",
            "|    layer3.5.conv2.weight     |   589824   |\n",
            "|     layer3.5.bn2.weight      |    256     |\n",
            "|      layer3.5.bn2.bias       |    256     |\n",
            "|    layer3.5.conv3.weight     |   262144   |\n",
            "|     layer3.5.bn3.weight      |    1024    |\n",
            "|      layer3.5.bn3.bias       |    1024    |\n",
            "|    layer4.0.conv1.weight     |   524288   |\n",
            "|     layer4.0.bn1.weight      |    512     |\n",
            "|      layer4.0.bn1.bias       |    512     |\n",
            "|    layer4.0.conv2.weight     |  2359296   |\n",
            "|     layer4.0.bn2.weight      |    512     |\n",
            "|      layer4.0.bn2.bias       |    512     |\n",
            "|    layer4.0.conv3.weight     |  1048576   |\n",
            "|     layer4.0.bn3.weight      |    2048    |\n",
            "|      layer4.0.bn3.bias       |    2048    |\n",
            "| layer4.0.downsample.0.weight |  2097152   |\n",
            "| layer4.0.downsample.1.weight |    2048    |\n",
            "|  layer4.0.downsample.1.bias  |    2048    |\n",
            "|    layer4.1.conv1.weight     |  1048576   |\n",
            "|     layer4.1.bn1.weight      |    512     |\n",
            "|      layer4.1.bn1.bias       |    512     |\n",
            "|    layer4.1.conv2.weight     |  2359296   |\n",
            "|     layer4.1.bn2.weight      |    512     |\n",
            "|      layer4.1.bn2.bias       |    512     |\n",
            "|    layer4.1.conv3.weight     |  1048576   |\n",
            "|     layer4.1.bn3.weight      |    2048    |\n",
            "|      layer4.1.bn3.bias       |    2048    |\n",
            "|    layer4.2.conv1.weight     |  1048576   |\n",
            "|     layer4.2.bn1.weight      |    512     |\n",
            "|      layer4.2.bn1.bias       |    512     |\n",
            "|    layer4.2.conv2.weight     |  2359296   |\n",
            "|     layer4.2.bn2.weight      |    512     |\n",
            "|      layer4.2.bn2.bias       |    512     |\n",
            "|    layer4.2.conv3.weight     |  1048576   |\n",
            "|     layer4.2.bn3.weight      |    2048    |\n",
            "|      layer4.2.bn3.bias       |    2048    |\n",
            "|          fc.weight           |  2048000   |\n",
            "|           fc.bias            |    1000    |\n",
            "+------------------------------+------------+\n",
            "Total Trainable Params: 25557032\n"
          ]
        },
        {
          "output_type": "execute_result",
          "data": {
            "text/plain": [
              "25557032"
            ]
          },
          "metadata": {},
          "execution_count": 109
        }
      ]
    },
    {
      "cell_type": "code",
      "source": [
        "for name, parameter in model2.named_parameters():\n",
        "  if name =='layer2.0.conv1.weight':\n",
        "    break\n",
        "  parameter.requires_grad = False\n",
        "for name, layer in model2.named_modules():\n",
        "    if name =='fc':\n",
        "        model2._modules[name] = torch.nn.Linear(2048, 10)\n",
        "\n",
        "count_parameters(model2)"
      ],
      "metadata": {
        "colab": {
          "base_uri": "https://localhost:8080/"
        },
        "id": "WCWd60uDMmZt",
        "outputId": "b72bc4cf-d12f-4f1f-e814-f5c415e89c22"
      },
      "execution_count": null,
      "outputs": [
        {
          "output_type": "stream",
          "name": "stdout",
          "text": [
            "+------------------------------+------------+\n",
            "|           Modules            | Parameters |\n",
            "+------------------------------+------------+\n",
            "|    layer2.0.conv1.weight     |   32768    |\n",
            "|     layer2.0.bn1.weight      |    128     |\n",
            "|      layer2.0.bn1.bias       |    128     |\n",
            "|    layer2.0.conv2.weight     |   147456   |\n",
            "|     layer2.0.bn2.weight      |    128     |\n",
            "|      layer2.0.bn2.bias       |    128     |\n",
            "|    layer2.0.conv3.weight     |   65536    |\n",
            "|     layer2.0.bn3.weight      |    512     |\n",
            "|      layer2.0.bn3.bias       |    512     |\n",
            "| layer2.0.downsample.0.weight |   131072   |\n",
            "| layer2.0.downsample.1.weight |    512     |\n",
            "|  layer2.0.downsample.1.bias  |    512     |\n",
            "|    layer2.1.conv1.weight     |   65536    |\n",
            "|     layer2.1.bn1.weight      |    128     |\n",
            "|      layer2.1.bn1.bias       |    128     |\n",
            "|    layer2.1.conv2.weight     |   147456   |\n",
            "|     layer2.1.bn2.weight      |    128     |\n",
            "|      layer2.1.bn2.bias       |    128     |\n",
            "|    layer2.1.conv3.weight     |   65536    |\n",
            "|     layer2.1.bn3.weight      |    512     |\n",
            "|      layer2.1.bn3.bias       |    512     |\n",
            "|    layer2.2.conv1.weight     |   65536    |\n",
            "|     layer2.2.bn1.weight      |    128     |\n",
            "|      layer2.2.bn1.bias       |    128     |\n",
            "|    layer2.2.conv2.weight     |   147456   |\n",
            "|     layer2.2.bn2.weight      |    128     |\n",
            "|      layer2.2.bn2.bias       |    128     |\n",
            "|    layer2.2.conv3.weight     |   65536    |\n",
            "|     layer2.2.bn3.weight      |    512     |\n",
            "|      layer2.2.bn3.bias       |    512     |\n",
            "|    layer2.3.conv1.weight     |   65536    |\n",
            "|     layer2.3.bn1.weight      |    128     |\n",
            "|      layer2.3.bn1.bias       |    128     |\n",
            "|    layer2.3.conv2.weight     |   147456   |\n",
            "|     layer2.3.bn2.weight      |    128     |\n",
            "|      layer2.3.bn2.bias       |    128     |\n",
            "|    layer2.3.conv3.weight     |   65536    |\n",
            "|     layer2.3.bn3.weight      |    512     |\n",
            "|      layer2.3.bn3.bias       |    512     |\n",
            "|    layer3.0.conv1.weight     |   131072   |\n",
            "|     layer3.0.bn1.weight      |    256     |\n",
            "|      layer3.0.bn1.bias       |    256     |\n",
            "|    layer3.0.conv2.weight     |   589824   |\n",
            "|     layer3.0.bn2.weight      |    256     |\n",
            "|      layer3.0.bn2.bias       |    256     |\n",
            "|    layer3.0.conv3.weight     |   262144   |\n",
            "|     layer3.0.bn3.weight      |    1024    |\n",
            "|      layer3.0.bn3.bias       |    1024    |\n",
            "| layer3.0.downsample.0.weight |   524288   |\n",
            "| layer3.0.downsample.1.weight |    1024    |\n",
            "|  layer3.0.downsample.1.bias  |    1024    |\n",
            "|    layer3.1.conv1.weight     |   262144   |\n",
            "|     layer3.1.bn1.weight      |    256     |\n",
            "|      layer3.1.bn1.bias       |    256     |\n",
            "|    layer3.1.conv2.weight     |   589824   |\n",
            "|     layer3.1.bn2.weight      |    256     |\n",
            "|      layer3.1.bn2.bias       |    256     |\n",
            "|    layer3.1.conv3.weight     |   262144   |\n",
            "|     layer3.1.bn3.weight      |    1024    |\n",
            "|      layer3.1.bn3.bias       |    1024    |\n",
            "|    layer3.2.conv1.weight     |   262144   |\n",
            "|     layer3.2.bn1.weight      |    256     |\n",
            "|      layer3.2.bn1.bias       |    256     |\n",
            "|    layer3.2.conv2.weight     |   589824   |\n",
            "|     layer3.2.bn2.weight      |    256     |\n",
            "|      layer3.2.bn2.bias       |    256     |\n",
            "|    layer3.2.conv3.weight     |   262144   |\n",
            "|     layer3.2.bn3.weight      |    1024    |\n",
            "|      layer3.2.bn3.bias       |    1024    |\n",
            "|    layer3.3.conv1.weight     |   262144   |\n",
            "|     layer3.3.bn1.weight      |    256     |\n",
            "|      layer3.3.bn1.bias       |    256     |\n",
            "|    layer3.3.conv2.weight     |   589824   |\n",
            "|     layer3.3.bn2.weight      |    256     |\n",
            "|      layer3.3.bn2.bias       |    256     |\n",
            "|    layer3.3.conv3.weight     |   262144   |\n",
            "|     layer3.3.bn3.weight      |    1024    |\n",
            "|      layer3.3.bn3.bias       |    1024    |\n",
            "|    layer3.4.conv1.weight     |   262144   |\n",
            "|     layer3.4.bn1.weight      |    256     |\n",
            "|      layer3.4.bn1.bias       |    256     |\n",
            "|    layer3.4.conv2.weight     |   589824   |\n",
            "|     layer3.4.bn2.weight      |    256     |\n",
            "|      layer3.4.bn2.bias       |    256     |\n",
            "|    layer3.4.conv3.weight     |   262144   |\n",
            "|     layer3.4.bn3.weight      |    1024    |\n",
            "|      layer3.4.bn3.bias       |    1024    |\n",
            "|    layer3.5.conv1.weight     |   262144   |\n",
            "|     layer3.5.bn1.weight      |    256     |\n",
            "|      layer3.5.bn1.bias       |    256     |\n",
            "|    layer3.5.conv2.weight     |   589824   |\n",
            "|     layer3.5.bn2.weight      |    256     |\n",
            "|      layer3.5.bn2.bias       |    256     |\n",
            "|    layer3.5.conv3.weight     |   262144   |\n",
            "|     layer3.5.bn3.weight      |    1024    |\n",
            "|      layer3.5.bn3.bias       |    1024    |\n",
            "|    layer4.0.conv1.weight     |   524288   |\n",
            "|     layer4.0.bn1.weight      |    512     |\n",
            "|      layer4.0.bn1.bias       |    512     |\n",
            "|    layer4.0.conv2.weight     |  2359296   |\n",
            "|     layer4.0.bn2.weight      |    512     |\n",
            "|      layer4.0.bn2.bias       |    512     |\n",
            "|    layer4.0.conv3.weight     |  1048576   |\n",
            "|     layer4.0.bn3.weight      |    2048    |\n",
            "|      layer4.0.bn3.bias       |    2048    |\n",
            "| layer4.0.downsample.0.weight |  2097152   |\n",
            "| layer4.0.downsample.1.weight |    2048    |\n",
            "|  layer4.0.downsample.1.bias  |    2048    |\n",
            "|    layer4.1.conv1.weight     |  1048576   |\n",
            "|     layer4.1.bn1.weight      |    512     |\n",
            "|      layer4.1.bn1.bias       |    512     |\n",
            "|    layer4.1.conv2.weight     |  2359296   |\n",
            "|     layer4.1.bn2.weight      |    512     |\n",
            "|      layer4.1.bn2.bias       |    512     |\n",
            "|    layer4.1.conv3.weight     |  1048576   |\n",
            "|     layer4.1.bn3.weight      |    2048    |\n",
            "|      layer4.1.bn3.bias       |    2048    |\n",
            "|    layer4.2.conv1.weight     |  1048576   |\n",
            "|     layer4.2.bn1.weight      |    512     |\n",
            "|      layer4.2.bn1.bias       |    512     |\n",
            "|    layer4.2.conv2.weight     |  2359296   |\n",
            "|     layer4.2.bn2.weight      |    512     |\n",
            "|      layer4.2.bn2.bias       |    512     |\n",
            "|    layer4.2.conv3.weight     |  1048576   |\n",
            "|     layer4.2.bn3.weight      |    2048    |\n",
            "|      layer4.2.bn3.bias       |    2048    |\n",
            "|          fc.weight           |   20480    |\n",
            "|           fc.bias            |     10     |\n",
            "+------------------------------+------------+\n",
            "Total Trainable Params: 23303178\n"
          ]
        },
        {
          "output_type": "execute_result",
          "data": {
            "text/plain": [
              "23303178"
            ]
          },
          "metadata": {},
          "execution_count": 110
        }
      ]
    },
    {
      "cell_type": "code",
      "source": [
        "loss_fn = nn.CrossEntropyLoss()\n",
        "learning_rate = 1e-3\n",
        "epochs = 5\n",
        "model2.to(device)\n",
        "optimizer = torch.optim.Adam(model2.parameters(), lr=learning_rate)\n",
        "test_accuracy3 = []\n",
        "for t in range(epochs):\n",
        "    print(f\"Epoch {t+1}\\n-------------------------------\")\n",
        "    train(trainloader, model2, loss_fn, optimizer)\n",
        "    test_accuracy3.append(test(testloader, model2, loss_fn))\n",
        "    if t>0:\n",
        "       if test_accuracy3[t-1]<=test_accuracy3[t]:\n",
        "         torch.save(model2, '/content/drive/MyDrive/HW3/ResNet50_Fine_Tuned_Model_CIFAR10_Dataset.pth')\n",
        "      \n",
        "print(\"Done!\")"
      ],
      "metadata": {
        "colab": {
          "base_uri": "https://localhost:8080/"
        },
        "id": "EL-Rfr1zMsBu",
        "outputId": "740af3e5-08f1-48a0-9886-8afa396645d0"
      },
      "execution_count": null,
      "outputs": [
        {
          "output_type": "stream",
          "name": "stdout",
          "text": [
            "Epoch 1\n",
            "-------------------------------\n",
            "Test Error: \n",
            " Accuracy: 81.1%, Avg loss: 0.593228 \n",
            "\n",
            "Epoch 2\n",
            "-------------------------------\n",
            "Test Error: \n",
            " Accuracy: 83.8%, Avg loss: 0.498783 \n",
            "\n",
            "Epoch 3\n",
            "-------------------------------\n",
            "Test Error: \n",
            " Accuracy: 83.1%, Avg loss: 0.530996 \n",
            "\n",
            "Epoch 4\n",
            "-------------------------------\n",
            "Test Error: \n",
            " Accuracy: 85.4%, Avg loss: 0.476586 \n",
            "\n",
            "Epoch 5\n",
            "-------------------------------\n",
            "Test Error: \n",
            " Accuracy: 84.8%, Avg loss: 0.514541 \n",
            "\n",
            "Done!\n"
          ]
        }
      ]
    }
  ]
}